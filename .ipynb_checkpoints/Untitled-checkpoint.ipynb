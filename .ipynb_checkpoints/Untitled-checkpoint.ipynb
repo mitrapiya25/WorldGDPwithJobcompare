{
 "cells": [
  {
   "cell_type": "code",
   "execution_count": 1,
   "metadata": {},
   "outputs": [],
   "source": [
    "import pandas as pd\n",
    "import pymongo"
   ]
  },
  {
   "cell_type": "code",
   "execution_count": 2,
   "metadata": {},
   "outputs": [],
   "source": [
    "gdp_file = \"Resources/API_NY_GDP.csv\"\n",
    "gdp_df = pd.read_csv(gdp_file,encoding = \"ISO-8859-1\")\n"
   ]
  },
  {
   "cell_type": "code",
   "execution_count": 3,
   "metadata": {},
   "outputs": [],
   "source": [
    "gdp_df= gdp_df.iloc[:,[0,1,2,58,59,60]]\n",
    "gdp_df =gdp_df.dropna()"
   ]
  },
  {
   "cell_type": "code",
   "execution_count": 4,
   "metadata": {},
   "outputs": [],
   "source": [
    "gdp_df =gdp_df.dropna()"
   ]
  },
  {
   "cell_type": "code",
   "execution_count": 5,
   "metadata": {},
   "outputs": [],
   "source": []
  },
  {
   "cell_type": "code",
   "execution_count": 6,
   "metadata": {},
   "outputs": [],
   "source": [
    "gdp_df['GDP_growth_percent'] = ((gdp_df['2016'] - gdp_df['2014'])/gdp_df['2014'])*100"
   ]
  },
  {
   "cell_type": "code",
   "execution_count": 13,
   "metadata": {},
   "outputs": [],
   "source": [
    "gdp_df['average_gdp']=(gdp_df['2014']+gdp_df['2015']+gdp_df['2016'])/3"
   ]
  },
  {
   "cell_type": "code",
   "execution_count": null,
   "metadata": {},
   "outputs": [],
   "source": []
  },
  {
   "cell_type": "code",
   "execution_count": 7,
   "metadata": {},
   "outputs": [],
   "source": [
    "db=client.gdp_data\n",
    "db.gdp_data.drop()"
   ]
  },
  {
   "cell_type": "code",
   "execution_count": 8,
   "metadata": {},
   "outputs": [
    {
     "data": {
      "text/plain": [
       "<pymongo.results.InsertManyResult at 0x1a950957e48>"
      ]
     },
     "execution_count": 8,
     "metadata": {},
     "output_type": "execute_result"
    }
   ],
   "source": [
    "records =gdp_df.to_dict(orient=\"records\")\n",
    "    ##print(records)\n",
    "db.gdp_data.insert_many(records) "
   ]
  },
  {
   "cell_type": "code",
   "execution_count": 11,
   "metadata": {},
   "outputs": [],
   "source": [
    "gdp_df.sort_values('GDP_growth_percent',inplace =True,ascending =False)"
   ]
  },
  {
   "cell_type": "code",
   "execution_count": 9,
   "metadata": {},
   "outputs": [],
   "source": [
    "gdp_df.sort_values('2016',inplace =True,ascending =False)"
   ]
  },
  {
   "cell_type": "code",
   "execution_count": 10,
   "metadata": {},
   "outputs": [],
   "source": [
    "gdp_df = gdp_df.reset_index()"
   ]
  },
  {
   "cell_type": "code",
   "execution_count": 12,
   "metadata": {},
   "outputs": [
    {
     "data": {
      "text/html": [
       "<div>\n",
       "<style scoped>\n",
       "    .dataframe tbody tr th:only-of-type {\n",
       "        vertical-align: middle;\n",
       "    }\n",
       "\n",
       "    .dataframe tbody tr th {\n",
       "        vertical-align: top;\n",
       "    }\n",
       "\n",
       "    .dataframe thead th {\n",
       "        text-align: right;\n",
       "    }\n",
       "</style>\n",
       "<table border=\"1\" class=\"dataframe\">\n",
       "  <thead>\n",
       "    <tr style=\"text-align: right;\">\n",
       "      <th></th>\n",
       "      <th>index</th>\n",
       "      <th>Country Name</th>\n",
       "      <th>Country Code</th>\n",
       "      <th>Indicator Name</th>\n",
       "      <th>2014</th>\n",
       "      <th>2015</th>\n",
       "      <th>2016</th>\n",
       "    </tr>\n",
       "  </thead>\n",
       "  <tbody>\n",
       "    <tr>\n",
       "      <th>12</th>\n",
       "      <td>249</td>\n",
       "      <td>United States</td>\n",
       "      <td>USA</td>\n",
       "      <td>GDP (current US$)</td>\n",
       "      <td>1.742760e+13</td>\n",
       "      <td>1.812070e+13</td>\n",
       "      <td>1.862450e+13</td>\n",
       "    </tr>\n",
       "    <tr>\n",
       "      <th>18</th>\n",
       "      <td>38</td>\n",
       "      <td>China</td>\n",
       "      <td>CHN</td>\n",
       "      <td>GDP (current US$)</td>\n",
       "      <td>1.048240e+13</td>\n",
       "      <td>1.106470e+13</td>\n",
       "      <td>1.119910e+13</td>\n",
       "    </tr>\n",
       "    <tr>\n",
       "      <th>23</th>\n",
       "      <td>117</td>\n",
       "      <td>Japan</td>\n",
       "      <td>JPN</td>\n",
       "      <td>GDP (current US$)</td>\n",
       "      <td>4.850410e+12</td>\n",
       "      <td>4.394980e+12</td>\n",
       "      <td>4.949270e+12</td>\n",
       "    </tr>\n",
       "    <tr>\n",
       "      <th>25</th>\n",
       "      <td>53</td>\n",
       "      <td>Germany</td>\n",
       "      <td>DEU</td>\n",
       "      <td>GDP (current US$)</td>\n",
       "      <td>3.890610e+12</td>\n",
       "      <td>3.375610e+12</td>\n",
       "      <td>3.477800e+12</td>\n",
       "    </tr>\n",
       "    <tr>\n",
       "      <th>31</th>\n",
       "      <td>79</td>\n",
       "      <td>United Kingdom</td>\n",
       "      <td>GBR</td>\n",
       "      <td>GDP (current US$)</td>\n",
       "      <td>3.022830e+12</td>\n",
       "      <td>2.885570e+12</td>\n",
       "      <td>2.650850e+12</td>\n",
       "    </tr>\n",
       "    <tr>\n",
       "      <th>33</th>\n",
       "      <td>75</td>\n",
       "      <td>France</td>\n",
       "      <td>FRA</td>\n",
       "      <td>GDP (current US$)</td>\n",
       "      <td>2.849310e+12</td>\n",
       "      <td>2.433560e+12</td>\n",
       "      <td>2.465450e+12</td>\n",
       "    </tr>\n",
       "    <tr>\n",
       "      <th>34</th>\n",
       "      <td>107</td>\n",
       "      <td>India</td>\n",
       "      <td>IND</td>\n",
       "      <td>GDP (current US$)</td>\n",
       "      <td>2.035390e+12</td>\n",
       "      <td>2.089870e+12</td>\n",
       "      <td>2.263790e+12</td>\n",
       "    </tr>\n",
       "    <tr>\n",
       "      <th>36</th>\n",
       "      <td>114</td>\n",
       "      <td>Italy</td>\n",
       "      <td>ITA</td>\n",
       "      <td>GDP (current US$)</td>\n",
       "      <td>2.151730e+12</td>\n",
       "      <td>1.832870e+12</td>\n",
       "      <td>1.859380e+12</td>\n",
       "    </tr>\n",
       "    <tr>\n",
       "      <th>37</th>\n",
       "      <td>27</td>\n",
       "      <td>Brazil</td>\n",
       "      <td>BRA</td>\n",
       "      <td>GDP (current US$)</td>\n",
       "      <td>2.455990e+12</td>\n",
       "      <td>1.803650e+12</td>\n",
       "      <td>1.796190e+12</td>\n",
       "    </tr>\n",
       "    <tr>\n",
       "      <th>38</th>\n",
       "      <td>33</td>\n",
       "      <td>Canada</td>\n",
       "      <td>CAN</td>\n",
       "      <td>GDP (current US$)</td>\n",
       "      <td>1.799270e+12</td>\n",
       "      <td>1.559620e+12</td>\n",
       "      <td>1.535770e+12</td>\n",
       "    </tr>\n",
       "  </tbody>\n",
       "</table>\n",
       "</div>"
      ],
      "text/plain": [
       "    index    Country Name Country Code     Indicator Name          2014  \\\n",
       "12    249   United States          USA  GDP (current US$)  1.742760e+13   \n",
       "18     38           China          CHN  GDP (current US$)  1.048240e+13   \n",
       "23    117           Japan          JPN  GDP (current US$)  4.850410e+12   \n",
       "25     53         Germany          DEU  GDP (current US$)  3.890610e+12   \n",
       "31     79  United Kingdom          GBR  GDP (current US$)  3.022830e+12   \n",
       "33     75          France          FRA  GDP (current US$)  2.849310e+12   \n",
       "34    107           India          IND  GDP (current US$)  2.035390e+12   \n",
       "36    114           Italy          ITA  GDP (current US$)  2.151730e+12   \n",
       "37     27          Brazil          BRA  GDP (current US$)  2.455990e+12   \n",
       "38     33          Canada          CAN  GDP (current US$)  1.799270e+12   \n",
       "\n",
       "            2015          2016  \n",
       "12  1.812070e+13  1.862450e+13  \n",
       "18  1.106470e+13  1.119910e+13  \n",
       "23  4.394980e+12  4.949270e+12  \n",
       "25  3.375610e+12  3.477800e+12  \n",
       "31  2.885570e+12  2.650850e+12  \n",
       "33  2.433560e+12  2.465450e+12  \n",
       "34  2.089870e+12  2.263790e+12  \n",
       "36  1.832870e+12  1.859380e+12  \n",
       "37  1.803650e+12  1.796190e+12  \n",
       "38  1.559620e+12  1.535770e+12  "
      ]
     },
     "execution_count": 12,
     "metadata": {},
     "output_type": "execute_result"
    }
   ],
   "source": [
    "gdp_df.iloc[[12,18,23,25,31,33,34,36,37,38],:]"
   ]
  },
  {
   "cell_type": "code",
   "execution_count": 41,
   "metadata": {},
   "outputs": [],
   "source": [
    "job_file = \"Resources/Data_Extract_From_Jobs.csv\"\n",
    "job_df = pd.read_csv(job_file,encoding = \"ISO-8859-1\")\n"
   ]
  },
  {
   "cell_type": "code",
   "execution_count": 43,
   "metadata": {},
   "outputs": [],
   "source": [
    "job_df = job_df.iloc[:,[0,1,2,3,6,7,8]]"
   ]
  },
  {
   "cell_type": "code",
   "execution_count": 44,
   "metadata": {},
   "outputs": [],
   "source": [
    "job_df = job_df.rename(columns= {'2014 [YR2014]':'2014','2015 [YR2015]':'2015','2016 [YR2016]':'2016'})"
   ]
  },
  {
   "cell_type": "code",
   "execution_count": 45,
   "metadata": {},
   "outputs": [
    {
     "data": {
      "text/html": [
       "<div>\n",
       "<style scoped>\n",
       "    .dataframe tbody tr th:only-of-type {\n",
       "        vertical-align: middle;\n",
       "    }\n",
       "\n",
       "    .dataframe tbody tr th {\n",
       "        vertical-align: top;\n",
       "    }\n",
       "\n",
       "    .dataframe thead th {\n",
       "        text-align: right;\n",
       "    }\n",
       "</style>\n",
       "<table border=\"1\" class=\"dataframe\">\n",
       "  <thead>\n",
       "    <tr style=\"text-align: right;\">\n",
       "      <th></th>\n",
       "      <th>Country Name</th>\n",
       "      <th>Country Code</th>\n",
       "      <th>Series Name</th>\n",
       "      <th>Series Code</th>\n",
       "      <th>2014</th>\n",
       "      <th>2015</th>\n",
       "      <th>2016</th>\n",
       "    </tr>\n",
       "  </thead>\n",
       "  <tbody>\n",
       "    <tr>\n",
       "      <th>0</th>\n",
       "      <td>Afghanistan</td>\n",
       "      <td>AFG</td>\n",
       "      <td>Employers, total (% of total employment) (mode...</td>\n",
       "      <td>SL.EMP.MPYR.ZS</td>\n",
       "      <td>1.302000046</td>\n",
       "      <td>1.264000058</td>\n",
       "      <td>1.243999958</td>\n",
       "    </tr>\n",
       "    <tr>\n",
       "      <th>1</th>\n",
       "      <td>Afghanistan</td>\n",
       "      <td>AFG</td>\n",
       "      <td>Employment in agriculture (% of total employme...</td>\n",
       "      <td>SL.AGR.EMPL.ZS</td>\n",
       "      <td>61.63000107</td>\n",
       "      <td>61.13199997</td>\n",
       "      <td>61.34899902</td>\n",
       "    </tr>\n",
       "    <tr>\n",
       "      <th>2</th>\n",
       "      <td>Afghanistan</td>\n",
       "      <td>AFG</td>\n",
       "      <td>Employment in industry (% of total employment)...</td>\n",
       "      <td>SL.IND.EMPL.ZS</td>\n",
       "      <td>6.493000031</td>\n",
       "      <td>6.723999977</td>\n",
       "      <td>6.741000175</td>\n",
       "    </tr>\n",
       "    <tr>\n",
       "      <th>3</th>\n",
       "      <td>Afghanistan</td>\n",
       "      <td>AFG</td>\n",
       "      <td>Employment in services (% of total employment)...</td>\n",
       "      <td>SL.SRV.EMPL.ZS</td>\n",
       "      <td>31.87700081</td>\n",
       "      <td>32.14500046</td>\n",
       "      <td>31.90999985</td>\n",
       "    </tr>\n",
       "    <tr>\n",
       "      <th>4</th>\n",
       "      <td>Albania</td>\n",
       "      <td>ALB</td>\n",
       "      <td>Employers, total (% of total employment) (mode...</td>\n",
       "      <td>SL.EMP.MPYR.ZS</td>\n",
       "      <td>1.975999951</td>\n",
       "      <td>2.400000095</td>\n",
       "      <td>2.434999943</td>\n",
       "    </tr>\n",
       "  </tbody>\n",
       "</table>\n",
       "</div>"
      ],
      "text/plain": [
       "  Country Name Country Code  \\\n",
       "0  Afghanistan          AFG   \n",
       "1  Afghanistan          AFG   \n",
       "2  Afghanistan          AFG   \n",
       "3  Afghanistan          AFG   \n",
       "4      Albania          ALB   \n",
       "\n",
       "                                         Series Name     Series Code  \\\n",
       "0  Employers, total (% of total employment) (mode...  SL.EMP.MPYR.ZS   \n",
       "1  Employment in agriculture (% of total employme...  SL.AGR.EMPL.ZS   \n",
       "2  Employment in industry (% of total employment)...  SL.IND.EMPL.ZS   \n",
       "3  Employment in services (% of total employment)...  SL.SRV.EMPL.ZS   \n",
       "4  Employers, total (% of total employment) (mode...  SL.EMP.MPYR.ZS   \n",
       "\n",
       "          2014         2015         2016  \n",
       "0  1.302000046  1.264000058  1.243999958  \n",
       "1  61.63000107  61.13199997  61.34899902  \n",
       "2  6.493000031  6.723999977  6.741000175  \n",
       "3  31.87700081  32.14500046  31.90999985  \n",
       "4  1.975999951  2.400000095  2.434999943  "
      ]
     },
     "execution_count": 45,
     "metadata": {},
     "output_type": "execute_result"
    }
   ],
   "source": [
    "job_df.head"
   ]
  },
  {
   "cell_type": "code",
   "execution_count": 46,
   "metadata": {},
   "outputs": [],
   "source": [
    "records =job_df.to_dict(orient=\"records\")"
   ]
  },
  {
   "cell_type": "code",
   "execution_count": 48,
   "metadata": {},
   "outputs": [
    {
     "data": {
      "text/plain": [
       "<pymongo.results.InsertManyResult at 0x18cffebb948>"
      ]
     },
     "execution_count": 48,
     "metadata": {},
     "output_type": "execute_result"
    }
   ],
   "source": [
    "db=client.job_data\n",
    "db.job_data.drop()\n",
    "db.job_data.insert_many(records)"
   ]
  },
  {
   "cell_type": "code",
   "execution_count": null,
   "metadata": {},
   "outputs": [],
   "source": []
  }
 ],
 "metadata": {
  "kernelspec": {
   "display_name": "Python 3",
   "language": "python",
   "name": "python3"
  },
  "language_info": {
   "codemirror_mode": {
    "name": "ipython",
    "version": 3
   },
   "file_extension": ".py",
   "mimetype": "text/x-python",
   "name": "python",
   "nbconvert_exporter": "python",
   "pygments_lexer": "ipython3",
   "version": "3.6.4"
  }
 },
 "nbformat": 4,
 "nbformat_minor": 2
}
